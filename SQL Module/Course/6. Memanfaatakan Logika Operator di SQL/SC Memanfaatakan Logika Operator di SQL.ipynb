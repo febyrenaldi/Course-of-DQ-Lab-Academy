{
 "cells": [
  {
   "attachments": {},
   "cell_type": "markdown",
   "metadata": {},
   "source": [
    "CHAPTER 1 : Mengenal Data Boolean Dalam SQL"
   ]
  },
  {
   "cell_type": "code",
   "execution_count": null,
   "metadata": {
    "vscode": {
     "languageId": "sql"
    }
   },
   "outputs": [],
   "source": [
    "-- Praktikum\n",
    "SELECT DISTINCT\n",
    "\tCustomer_ID, Product,\n",
    "    Average_transaction,\n",
    "    Average_transaction >= 1000000 is_eligible\n",
    "FROM summary_transaction;"
   ]
  },
  {
   "attachments": {},
   "cell_type": "markdown",
   "metadata": {},
   "source": [
    "CHAPTER 2 : Pengenalan Operator Logika dalam SQL"
   ]
  },
  {
   "cell_type": "code",
   "execution_count": null,
   "metadata": {
    "vscode": {
     "languageId": "sql"
    }
   },
   "outputs": [],
   "source": [
    "-- Logika AND\n",
    "SELECT\n",
    "\tCustomer_ID, Product, average_transaction_amount,\n",
    "    product = 'Jaket' AND average_transaction_amount >= 1000000 loyal_buyer_jaket\n",
    "FROM data_retail\n",
    "WHERE product = 'Jaket'"
   ]
  },
  {
   "cell_type": "code",
   "execution_count": null,
   "metadata": {
    "vscode": {
     "languageId": "sql"
    }
   },
   "outputs": [],
   "source": [
    "-- Logika OR\n",
    "SELECT\n",
    "\tCustomer_ID,\n",
    "\tProduct,\n",
    "\taverage_transaction_amount,\n",
    "\tproduct = 'Jaket' OR product = 'Baju' buyer_fashion\n",
    "FROM data_retail;"
   ]
  },
  {
   "cell_type": "code",
   "execution_count": null,
   "metadata": {
    "vscode": {
     "languageId": "sql"
    }
   },
   "outputs": [],
   "source": [
    "-- Logika NOT\n",
    "SELECT \n",
    "       *\n",
    "FROM data_retail\n",
    "WHERE NOT product = 'Jaket';"
   ]
  },
  {
   "cell_type": "code",
   "execution_count": null,
   "metadata": {
    "vscode": {
     "languageId": "sql"
    }
   },
   "outputs": [],
   "source": [
    "-- Logika XOR\n",
    "SELECT\n",
    "\tCustomer_ID,\n",
    "\tProduct,\n",
    "\tAverage_Transaction_Amount,\n",
    "\tproduct = 'Jaket' XOR average_transaction_amount > 1000000 logika_xor\n",
    "FROM data_retail;"
   ]
  },
  {
   "attachments": {},
   "cell_type": "markdown",
   "metadata": {},
   "source": [
    "CHAPTER 3 : Pemanfaatan Operator Logika dalam SQL"
   ]
  },
  {
   "cell_type": "code",
   "execution_count": null,
   "metadata": {
    "vscode": {
     "languageId": "sql"
    }
   },
   "outputs": [],
   "source": [
    "-- Pemanfaatan Operator Logika dalam Perintah Where\n",
    "SELECT DISTINCT\n",
    "\t*\n",
    "FROM data_retail\n",
    "WHERE Product = \"Jaket\" AND Average_Transaction_Amount >= 1000000;"
   ]
  },
  {
   "cell_type": "code",
   "execution_count": null,
   "metadata": {
    "vscode": {
     "languageId": "sql"
    }
   },
   "outputs": [],
   "source": [
    "-- Pemanfaatan Operator Logika dalam Konstruksi Case When\n",
    "SELECT DISTINCT\n",
    "\tCustomer_ID,\n",
    "\tProduct,\n",
    "\tAverage_Transaction,\n",
    "\tCount_Transaction,\n",
    "CASE\n",
    "\tWHEN Average_transaction > 2000000 AND Count_Transaction > 30 THEN \"Platinum Member\"\n",
    "\tWHEN Average_transaction BETWEEN 2000000 AND 1000000 AND Count_Transaction BETWEEN 20 AND 30 THEN \"Gold Member\"\n",
    "\tWHEN Average_transaction < 1000000 AND Count_Transaction < 20 THEN \"Silver Member\"\n",
    "\t\tELSE \"Other Membership\" \n",
    "\t\tEND AS Membership\n",
    "FROM summary_transaction"
   ]
  },
  {
   "cell_type": "code",
   "execution_count": null,
   "metadata": {
    "vscode": {
     "languageId": "sql"
    }
   },
   "outputs": [],
   "source": [
    "-- Praktikum\n",
    "SELECT DISTINCT\n",
    "Customer_ID,\n",
    "Product,\n",
    "Average_transaction,\n",
    "Count_Transaction,\n",
    "CASE\n",
    "\tWHEN Average_transaction > 1000000 then '4-5 x Email dalam seminggu'\n",
    "    WHEN Average_transaction < 1000000 then '1-2x Email dalam seminggu'\n",
    "END AS frekuensi_email\n",
    "FROM summary_transaction"
   ]
  },
  {
   "cell_type": "code",
   "execution_count": null,
   "metadata": {
    "vscode": {
     "languageId": "sql"
    }
   },
   "outputs": [],
   "source": [
    "-- Perintah Where dan Logika And\n",
    "SELECT DISTINCT\n",
    "\tCustomer_ID\n",
    "FROM summary_transaction\n",
    "WHERE Average_transaction < 1000000 AND Product = 'Sepatu'"
   ]
  },
  {
   "cell_type": "code",
   "execution_count": null,
   "metadata": {
    "vscode": {
     "languageId": "sql"
    }
   },
   "outputs": [],
   "source": [
    "-- Menyiapkan Report Penjualan\n",
    "SELECT DISTINCT\n",
    "Product Produk,\n",
    "avg(Average_transaction) 'Jumlah transaksi (Rupiah)',\n",
    "sum(Count_transaction) 'Barang terjual'\n",
    "FROM summary_transaction\n",
    "GROUP BY Product"
   ]
  },
  {
   "attachments": {},
   "cell_type": "markdown",
   "metadata": {},
   "source": [
    "CHAPTER 4 : Mini Project"
   ]
  },
  {
   "cell_type": "code",
   "execution_count": null,
   "metadata": {
    "vscode": {
     "languageId": "sql"
    }
   },
   "outputs": [],
   "source": [
    "-- Tugas Pertamaku\n",
    "SELECT DISTINCT\n",
    "\tCustomer_ID\n",
    "FROM data_retail_undian\n",
    "WHERE Unik_produk >= 3 AND Rata_rata_transaksi > 1500000"
   ]
  },
  {
   "cell_type": "code",
   "execution_count": null,
   "metadata": {
    "vscode": {
     "languageId": "sql"
    }
   },
   "outputs": [],
   "source": [
    "-- Tugas Keduaku\n",
    "SELECT DISTINCT\n",
    "\tCustomer_ID\n",
    "FROM data_retail_undian\n",
    "WHERE NOT (Unik_produk >= 3 AND Rata_rata_transaksi >= 1500000)"
   ]
  }
 ],
 "metadata": {
  "language_info": {
   "name": "python"
  },
  "orig_nbformat": 4
 },
 "nbformat": 4,
 "nbformat_minor": 2
}
