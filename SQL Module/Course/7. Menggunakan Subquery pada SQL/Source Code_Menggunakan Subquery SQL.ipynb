{
 "cells": [
  {
   "attachments": {},
   "cell_type": "markdown",
   "metadata": {},
   "source": [
    "CHAPTER 2\n",
    "Subquery untuk melakukan filtering pada klausa WHERE"
   ]
  },
  {
   "cell_type": "code",
   "execution_count": null,
   "metadata": {
    "vscode": {
     "languageId": "sql"
    }
   },
   "outputs": [],
   "source": [
    "-- Subquery dalam klausa WHERE\n",
    "\n",
    "-- Menghitung customer yang membeli Sepatu dan Jaket\n",
    "SELECT COUNT(DISTINCT customer_id) total_buyer_Sepatu_Jaket\n",
    "FROM data_retail\n",
    "WHERE product = 'Sepatu' \n",
    "AND customer_id IN (\n",
    " \tSELECT distinct Customer_ID\n",
    "    FROM data_retail\n",
    "    WHERE product = 'Jaket');\n",
    "\n",
    " -- Menghitung customer yang membeli Sepatu dan Baju\n",
    "SELECT COUNT(DISTINCT customer_id) total_buyer_Sepatu_Baju\n",
    "FROM data_retail\n",
    "WHERE product = 'Sepatu' \n",
    "AND customer_id IN (\n",
    " \tSELECT distinct Customer_ID\n",
    "    FROM data_retail\n",
    "    WHERE product = 'Baju');\n",
    "    \n",
    "-- Menghitung customer yang membeli Sepatu dan Tas\n",
    "SELECT COUNT(DISTINCT customer_id) total_buyer_Sepatu_Tas\n",
    "FROM data_retail\n",
    "WHERE product = 'Sepatu' \n",
    "AND customer_id IN (\n",
    " \tSELECT DISTINCT customer_id\n",
    "    FROM data_retail\n",
    "    WHERE product = 'Tas');"
   ]
  },
  {
   "attachments": {},
   "cell_type": "markdown",
   "metadata": {},
   "source": [
    "CHAPTER 3 Penggunaan subquery pada konstruksi JOIN"
   ]
  },
  {
   "cell_type": "code",
   "execution_count": null,
   "metadata": {
    "vscode": {
     "languageId": "sql"
    }
   },
   "outputs": [],
   "source": [
    "-- Subquery dalam klausa JOIN\n",
    "SELECT a.Customer_ID, a.Transaksi_Sepatu, b.Transaksi_Jaket\n",
    "FROM (select customer_id, sum(count_transaction) transaksi_sepatu\n",
    "      from data_retail\n",
    "      where product = 'Sepatu'\n",
    "      group by 1) A\n",
    "JOIN (select Customer_ID, sum(Count_Transaction) transaksi_jaket\n",
    "      from data_retail\n",
    "      where product = 'Jaket'\n",
    "      group by 1) B on a.Customer_ID = b.Customer_ID\n",
    "ORDER BY 2 DESC,3 DESC"
   ]
  },
  {
   "cell_type": "code",
   "execution_count": null,
   "metadata": {
    "vscode": {
     "languageId": "sql"
    }
   },
   "outputs": [],
   "source": [
    "-- Mencari Rata-Rata Total Transaksi untuk Produk Sepatu\n",
    "SELECT AVG(Count_Transaction) avg_transaksi\n",
    "FROM data_retail\n",
    "WHERE product = 'Sepatu'"
   ]
  },
  {
   "cell_type": "code",
   "execution_count": null,
   "metadata": {
    "vscode": {
     "languageId": "sql"
    }
   },
   "outputs": [],
   "source": [
    "-- Subquery untuk menghasilkan nilai kolom pada konstruksi SELECT\n",
    "SELECT\n",
    "\tCustomer_ID, Count_Transaction,\n",
    "    (\n",
    "    SELECT AVG(Count_Transaction)\n",
    "    \t\tFROM data_retail\n",
    "            WHERE product = 'Sepatu'\n",
    "    ) Avg_Transaction\n",
    "FROM data_retail\n",
    "WHERE product = 'Sepatu'"
   ]
  },
  {
   "cell_type": "code",
   "execution_count": null,
   "metadata": {
    "vscode": {
     "languageId": "sql"
    }
   },
   "outputs": [],
   "source": [
    "-- Mini Project - Analisis penjualan DQ-Shop\n",
    "SELECT \n",
    "A.product, \n",
    "A.total_buyer, \n",
    "D.loyal_customer\n",
    "FROM (\n",
    "   SELECT product, COUNT(DISTINCT customer_id) total_buyer\n",
    "   FROM data_retail\n",
    "   GROUP BY 1) A\n",
    "JOIN (\n",
    "   SELECT B.Product, COUNT(DISTINCT Customer_ID) loyal_customer\n",
    "   FROM data_retail B\n",
    "   JOIN (\n",
    "    SELECT Product, AVG(Count_Transaction) AS Count_Transaction\n",
    "    FROM data_retail \n",
    "    GROUP BY 1\n",
    "   ) C ON C.Product = B.Product AND B.Count_Transaction > C.Count_Transaction\n",
    "   GROUP BY 1\n",
    "   ) D ON A.Product = D.Product"
   ]
  }
 ],
 "metadata": {
  "kernelspec": {
   "display_name": "Python 3",
   "language": "python",
   "name": "python3"
  },
  "language_info": {
   "name": "python",
   "version": "3.10.0 (tags/v3.10.0:b494f59, Oct  4 2021, 19:00:18) [MSC v.1929 64 bit (AMD64)]"
  },
  "orig_nbformat": 4,
  "vscode": {
   "interpreter": {
    "hash": "df95319d8ce4e1d89f5365ae10992bc1f65da593082b1d264e8f529830ec2f02"
   }
  }
 },
 "nbformat": 4,
 "nbformat_minor": 2
}
